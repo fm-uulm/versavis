{
 "cells": [
  {
   "cell_type": "code",
   "execution_count": 6,
   "metadata": {},
   "outputs": [],
   "source": "import rosbag\n\nbag = rosbag.Bag('sensors_2020-06-24-13-32-21-jfr-hdr.bag')\n#rosbag filter sensors_2020-06-24-13-32-21.bag sensors_2020-06-24-13-32-21-jfr.bag \"topic=='/moa/adis16448bmlz/imu/baro' or topic=='/moa/adis16448bmlz/imu/data_raw' or topic=='/moa/adis16448bmlz/imu/mag' or topic=='/moa/adis16448bmlz/imu/temp' or topic=='/moa/bfly/header' or topic=='/moa/piksi/position_receiver_0/ros/navsatfix' or topic=='/moa/piksi/attitude_receiver_0/ros/navsatfix' or topic=='/moa/us_d1/data' or topic=='/moa/time_sync' or topic=='/moa/lidar_lite/data'\"\n\n\nwith rosbag.Bag('corrected.bag', 'w') as outbag:\n    for topic, msg, t in bag.read_messages():\n        if (topic == '/moa/time_sync'):\n            outbag.write(topic, msg, msg.remote_time)\n        elif (topic == '/moa/bfly/header'):\n            outbag.write(topic, msg, msg.stamp)\n        elif (topic == '/moa/us_d1/data'):\n            outbag.write(topic, msg, msg.range.header.stamp)\n        elif (topic == '/moa/lidar_lite/data'):\n            outbag.write(topic, msg, msg.range.header.stamp)\n        else:\n            outbag.write(topic, msg, msg.header.stamp if msg._has_header else t)\nbag.close()"
  },
  {
   "cell_type": "code",
   "execution_count": null,
   "metadata": {},
   "outputs": [],
   "source": ""
  }
 ],
 "metadata": {
  "kernelspec": {
   "display_name": "Python 2",
   "language": "python",
   "name": "python2"
  },
  "language_info": {
   "codemirror_mode": {
    "name": "ipython",
    "version": 2
   },
   "file_extension": ".py",
   "mimetype": "text/x-python",
   "name": "python",
   "nbconvert_exporter": "python",
   "pygments_lexer": "ipython2",
   "version": "2.7.17"
  }
 },
 "nbformat": 4,
 "nbformat_minor": 4
}
