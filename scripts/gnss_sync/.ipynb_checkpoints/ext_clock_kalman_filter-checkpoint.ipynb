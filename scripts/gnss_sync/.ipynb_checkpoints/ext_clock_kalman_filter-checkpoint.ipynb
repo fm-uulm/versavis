{
 "cells": [
  {
   "cell_type": "code",
   "execution_count": 217,
   "metadata": {},
   "outputs": [],
   "source": "import sympy as sym\n\n# Define states, measurements and inputs.\nx1, x2, x3, x4 = sym.symbols('x1, x2, x3, x4')\nx = sym.Matrix([[x1], [x2], [x3], [x4]])\n\nu1 = sym.symbols('u1')\nu = sym.Matrix([[u1]])\n\nz1 = sym.symbols('z1')\nz = sym.Matrix([[z1]])\n\nw1, w2, w3, w4 = sym.symbols('w1, w2, w3, w4')\nw = sym.Matrix([[w1], [w2], [w3], [w4]])\n\nv1 = sym.symbols('v1')\nv = sym.Matrix([[v1]])\n\np11, p12, p13, p14, p21, p22, p23, p24, p31, p32, p33, p34, p41, p42, p43, p44 = sym.symbols('p11, p12, p13, p14, p21, p22, p23, p24, p31, p32, p33, p34, p41, p42, p43, p44')\nP = sym.Matrix([[p11, p12, p13, p14], [p21, p22, p23, p24], [p31, p32, p33, p34], [p41, p42, p43, p44]])\n\nvar_x1, var_x2, var_x3, var_x4 = sym.symbols('var_x1 var_x2 var_x3 var_x4')\nQ = sym.diag(var_x1, var_x2, var_x3, var_x4)\n\nvar_z1 = sym.symbols('var_z1')\nR = sym.diag(var_z1)\n\n# Helper variables\ndt = sym.Symbol('dt')\nc1 = 3.3 / 0x3FF\n\n# Define state model\nf = sym.Matrix([[1, dt, 0, 0], [0, 1, 0, 0], [0, 0, 1, 0], [0, 0, 0, 1]]) * x + (c1 * u1 - x3) * x4 * sym.Matrix([[dt], [1], [0], [0]]) + w # \nF = f.jacobian(x)\nf11, f12, f13, f14, f21, f22, f23, f24, f31, f32, f33, f34, f41, f42, f43, f44 = sym.symbols('f11, f12, f13, f14, f21, f22, f23, f24, f31, f32, f33, f34, f41, f42, f43, f44')\nF_sym = sym.Matrix([[f11, f12, f13, f14], [f21, f22, f23, f24], [f31, f32, f33, f34], [f41, f42, f43, f44]]) \n\nB = f.jacobian(u)\n\nh = sym.Matrix([x1]) + v\nH = h.jacobian(x)\n\n# Process update\nx_pred = f.subs([(w1, 0), (w2, 0), (w3, 0), (w4, 0)]) # State prediction export f(x, u, c)\nP_pred = F * P * F.transpose() + Q # Covariance prediction export P_pred(x, u, c, Q)\n\n# Measurement update\ny = z - h.subs([(v1, 0)]) # Residual\n\nS = H * P * H.transpose() + R # Innovation (export S_inv(P, R))\ns_inv11 = sym.symbols('s_inv11')\nS_inv = sym.Matrix([[s_inv11]]) \n\nK = P * H.transpose() * S_inv # Kalman gain (export K(P, S_inv))\nk1, k2, k3, k4 = sym.symbols('k1, k2, k3, k4')\nK_sym = sym.Matrix([[k1], [k2], [k3], [k4]]) \n\nx_est = x + K_sym * y # Posterior state estimate (export x_est(x, P, z, K))\nP_est = (sym.eye(len(x)) - K_sym * H) * P # Posterior covariance estimate (export P_est(P, K))\n\n# Export C-Code\nfrom sympy.utilities.codegen import codegen\n\ncodegen([(\"predictX\", x_pred), (\"predictP\", P_pred), (\"computeResidual\", y), (\"computeSInverse\", S.inv()), (\"computeK\", K), (\"estimateX\", x_est), (\"estimateP\", P_est)], \n                                                 \"C\", \"ClockEstimator\", \"clock_sync\", header=False, empty=False, to_files=True)\n"
  },
  {
   "cell_type": "code",
   "execution_count": 216,
   "metadata": {},
   "outputs": [
    {
     "data": {
      "text/plain": "Matrix([\n[dt*p21 - dt*p31*x4 + dt*p41*(0.0032258064516129*u1 - x3) - dt*x4*(dt*p23 - dt*p33*x4 + dt*p43*(0.0032258064516129*u1 - x3) + p13) + dt*(0.0032258064516129*u1 - x3)*(dt*p24 - dt*p34*x4 + dt*p44*(0.0032258064516129*u1 - x3) + p14) + dt*(dt*p22 - dt*p32*x4 + dt*p42*(0.0032258064516129*u1 - x3) + p12) + p11 + var_x1, dt*p22 - dt*p32*x4 + dt*p42*(0.0032258064516129*u1 - x3) + p12 - x4*(dt*p23 - dt*p33*x4 + dt*p43*(0.0032258064516129*u1 - x3) + p13) + (0.0032258064516129*u1 - x3)*(dt*p24 - dt*p34*x4 + dt*p44*(0.0032258064516129*u1 - x3) + p14), dt*p23 - dt*p33*x4 + dt*p43*(0.0032258064516129*u1 - x3) + p13, dt*p24 - dt*p34*x4 + dt*p44*(0.0032258064516129*u1 - x3) + p14],\n[                                                                    -dt*x4*(p23 - p33*x4 + p43*(0.0032258064516129*u1 - x3)) + dt*(0.0032258064516129*u1 - x3)*(p24 - p34*x4 + p44*(0.0032258064516129*u1 - x3)) + dt*(p22 - p32*x4 + p42*(0.0032258064516129*u1 - x3)) + p21 - p31*x4 + p41*(0.0032258064516129*u1 - x3),                                     p22 - p32*x4 + p42*(0.0032258064516129*u1 - x3) + var_x2 - x4*(p23 - p33*x4 + p43*(0.0032258064516129*u1 - x3)) + (0.0032258064516129*u1 - x3)*(p24 - p34*x4 + p44*(0.0032258064516129*u1 - x3)),                p23 - p33*x4 + p43*(0.0032258064516129*u1 - x3),                p24 - p34*x4 + p44*(0.0032258064516129*u1 - x3)],\n[                                                                                                                                                                                                                                                           dt*p32 - dt*p33*x4 + dt*p34*(0.0032258064516129*u1 - x3) + p31,                                                                                                                                                                                      p32 - p33*x4 + p34*(0.0032258064516129*u1 - x3),                                                   p33 + var_x3,                                                            p34],\n[                                                                                                                                                                                                                                                           dt*p42 - dt*p43*x4 + dt*p44*(0.0032258064516129*u1 - x3) + p41,                                                                                                                                                                                      p42 - p43*x4 + p44*(0.0032258064516129*u1 - x3),                                                            p43,                                                   p44 + var_x4]])"
     },
     "execution_count": 216,
     "metadata": {},
     "output_type": "execute_result"
    }
   ],
   "source": "P_pred"
  }
 ],
 "metadata": {
  "kernelspec": {
   "display_name": "Python 2",
   "language": "python",
   "name": "python2"
  },
  "language_info": {
   "codemirror_mode": {
    "name": "ipython",
    "version": 2
   },
   "file_extension": ".py",
   "mimetype": "text/x-python",
   "name": "python",
   "nbconvert_exporter": "python",
   "pygments_lexer": "ipython2",
   "version": "2.7.17"
  }
 },
 "nbformat": 4,
 "nbformat_minor": 4
}
