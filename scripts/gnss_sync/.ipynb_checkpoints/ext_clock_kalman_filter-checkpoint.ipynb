{
 "cells": [
  {
   "cell_type": "code",
   "execution_count": null,
   "metadata": {},
   "outputs": [],
   "source": [
    "import sympy as sym\n",
    "\n",
    "# Define states, measurements and inputs.\n",
    "x1, x2, x3 = sym.symbols('x1, x2, x3')\n",
    "x = sym.Matrix([[x1], [x2], [x3]])\n",
    "\n",
    "u1 = sym.symbols('u1')\n",
    "u = sym.Matrix([[u1]])\n",
    "\n",
    "z1 = sym.symbols('z1')\n",
    "z = sym.Matrix([[z1]])\n",
    "\n",
    "w1, w2, w3 = sym.symbols('w1, w2, w3')\n",
    "w = sym.Matrix([[w1], [w2], [w3]])\n",
    "\n",
    "v1 = sym.symbols('v1')\n",
    "v = sym.Matrix([[v1]])\n",
    "\n",
    "p11, p12, p13, p21, p22, p23, p31, p32, p33 = sym.symbols('p11, p12, p13, p21, p22, p23, p31, p32, p33')\n",
    "P = sym.Matrix([[p11, p12, p13], [p21, p22, p23], [p31, p32, p33]])\n",
    "\n",
    "var_x1, var_x2, var_x3 = sym.symbols('var_x1 var_x2 var_x3')\n",
    "Q = sym.diag(var_x1, var_x2, var_x3)\n",
    "\n",
    "var_z1 = sym.symbols('var_z1')\n",
    "R = sym.diag(var_z1)\n",
    "\n",
    "# Helper variables\n",
    "dt = sym.Symbol('dt')\n",
    "c1 = 3.3 / 0x3FF\n",
    "\n",
    "# Define state model\n",
    "f = x + (c1 * u1 - x2) * x3 * dt * sym.Matrix([[1], [0], [0]]) + w \n",
    "F = f.jacobian(x)\n",
    "f11, f12, f13, f21, f22, f23, f31, f32, f33 = sym.symbols('f11, f12, f13, f21, f22, f23, f31, f32, f33')\n",
    "F_sym = sym.Matrix([[f11, f12, f13], [f21, f22, f23], [f31, f32, f33]]) \n",
    "\n",
    "B = f.jacobian(u)\n",
    "\n",
    "h = sym.Matrix([x1]) + v\n",
    "H = h.jacobian(x)\n",
    "\n",
    "# Process update\n",
    "x_pred = f.subs([(w1, 0), (w2, 0), (w3, 0)]) # State prediction export f(x, u, c)\n",
    "P_pred = F * P * F.transpose() + Q # Covariance prediction export P_pred(x, u, c, Q)\n",
    "\n",
    "# Measurement update\n",
    "y = z - h.subs([(v1, 0)]) # Residual\n",
    "residual = sym.symbols('residual')\n",
    "\n",
    "S = H * P * H.transpose() + R # Innovation (export S_inv(P, R))\n",
    "s_inv11 = sym.symbols('s_inv11')\n",
    "S_inv = sym.Matrix([[s_inv11]]) \n",
    "\n",
    "K = P * H.transpose() * S_inv # Kalman gain (export K(P, S_inv))\n",
    "k1, k2, k3 = sym.symbols('k1, k2, k3')\n",
    "K_sym = sym.Matrix([[k1], [k2], [k3]]) \n",
    "\n",
    "x_est = x + K_sym * residual # Posterior state estimate (export x_est(x, P, z, K))\n",
    "P_est = (sym.eye(len(x)) - K_sym * H) * P # Posterior covariance estimate (export P_est(P, K))\n",
    "\n",
    "# Export C-Code\n",
    "from sympy.utilities.codegen import codegen, get_code_generator, default_datatypes\n",
    "from sympy.codegen.ast import float32, real\n",
    "\n",
    "cg = get_code_generator(\"C\", project=\"clock_sync\") #note project must be specified here\n",
    "cg.printer.type_aliases[real] = float32 #makes the functions correct (cosf instead of cos)\n",
    "default_datatypes[\"float\"].cname = \"float\" #makes the data-type correct (float instead of double)\n",
    "\n",
    "codegen([(\"predictX\", x_pred), (\"predictP\", P_pred), (\"computeResidual\", y), (\"computeSInverse\", S.inv()), (\"computeK\", K), (\"estimateX\", x_est), (\"estimateP\", P_est)], \n",
    "        prefix=\"ClockEstimator\", header=False, empty=False, to_files=True, code_gen=cg)\n",
    "\n",
    "\n"
   ]
  },
  {
   "cell_type": "code",
   "execution_count": null,
   "metadata": {},
   "outputs": [],
   "source": [
    "f"
   ]
  },
  {
   "cell_type": "code",
   "execution_count": 3,
   "metadata": {},
   "outputs": [],
   "source": [
    "import numpy as np\n",
    "import scipy.linalg\n",
    "# Thanks to http://www.mwm.im/lqr-controllers-with-python/\n",
    " \n",
    "def dlqr(A,B,Q,R):\n",
    "    \"\"\"Solve the discrete time lqr controller.\n",
    "\n",
    "    x[k+1] = A x[k] + B u[k]\n",
    "\n",
    "    cost = sum x[k].T*Q*x[k] + u[k].T*R*u[k]\n",
    "    \"\"\"\n",
    "    #ref Bertsekas, p.151\n",
    "\n",
    "    #first, try to solve the ricatti equation\n",
    "    X = np.matrix(scipy.linalg.solve_discrete_are(A, B, Q, R))\n",
    "\n",
    "    #compute the LQR gain\n",
    "    K = np.matrix(scipy.linalg.inv(B.T*X*B+R)*(B.T*X*A))\n",
    "\n",
    "    eigVals, eigVecs = scipy.linalg.eig(A-B*K)\n",
    "\n",
    "    return K, X, eigVals"
   ]
  },
  {
   "cell_type": "code",
   "execution_count": 4,
   "metadata": {},
   "outputs": [
    {
     "name": "stdout",
     "output_type": "stream",
     "text": [
      "System (A,B) is controllable.\n",
      "System (A,Q) is observable.\n",
      "Gain: \n",
      "[[3.08266065]]\n"
     ]
    }
   ],
   "source": [
    "import numpy as np\n",
    "import control \n",
    "from control import ctrb, obsv\n",
    "\n",
    "# Treat x2 and x3 as constants and replace with nominal values\n",
    "x_ctrl = sym.Matrix([x1])\n",
    "\n",
    "f_ctrl = sym.Matrix([x_pred[0]])\n",
    "f_ctrl = f_ctrl.subs([(x2, 1.5), (x3, 5.0), (dt, 1.0)])\n",
    "\n",
    "A = f_ctrl.jacobian(x_ctrl)\n",
    "B = f_ctrl.jacobian(u)\n",
    "\n",
    "A = np.array(A).astype(np.float64)\n",
    "B = np.array(B).astype(np.float64)\n",
    "\n",
    "Q = np.zeros((1, 1))\n",
    "Q[0,0] = 1.0\n",
    "\n",
    "R = np.zeros((1,1))\n",
    "R[0,0] = 0.1\n",
    "\n",
    "# Controllability check\n",
    "if (np.linalg.matrix_rank(ctrb(A,B)) == len(x_ctrl)):\n",
    "    print(\"System (A,B) is controllable.\")\n",
    "else:\n",
    "    print(\"System (A,B) is NOT controllable.\")\n",
    "    \n",
    "# Observability check\n",
    "if (np.linalg.matrix_rank(obsv(A,Q)) == len(x_ctrl)):\n",
    "    print(\"System (A,Q) is observable.\")\n",
    "else:\n",
    "    print(\"System (A,Q) is NOT observable.\")\n",
    "\n",
    "Klqr, Xlqr, Elqr = dlqr(A, B, Q, R)\n",
    "print(\"Gain: \")\n",
    "print(Klqr)\n",
    "\n"
   ]
  },
  {
   "cell_type": "code",
   "execution_count": 38,
   "metadata": {},
   "outputs": [
    {
     "data": {
      "text/latex": [
       "$\\displaystyle \\left[\\begin{matrix}dt x_{3} \\left(0.0032258064516129 u_{1} - x_{2}\\right) + x_{1}\\\\x_{2}\\\\x_{3}\\end{matrix}\\right]$"
      ],
      "text/plain": [
       "Matrix([\n",
       "[dt*x3*(0.0032258064516129*u1 - x2) + x1],\n",
       "[                                     x2],\n",
       "[                                     x3]])"
      ]
     },
     "execution_count": 38,
     "metadata": {},
     "output_type": "execute_result"
    }
   ],
   "source": [
    "x_pred"
   ]
  }
 ],
 "metadata": {
  "kernelspec": {
   "display_name": "Python 2",
   "language": "python",
   "name": "python2"
  },
  "language_info": {
   "codemirror_mode": {
    "name": "ipython",
    "version": 2
   },
   "file_extension": ".py",
   "mimetype": "text/x-python",
   "name": "python",
   "nbconvert_exporter": "python",
   "pygments_lexer": "ipython2",
   "version": "2.7.17"
  }
 },
 "nbformat": 4,
 "nbformat_minor": 4
}
