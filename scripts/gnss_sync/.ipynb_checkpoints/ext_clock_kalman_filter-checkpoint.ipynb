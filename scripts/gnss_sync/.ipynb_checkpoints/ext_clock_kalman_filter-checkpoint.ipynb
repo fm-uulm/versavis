{
 "cells": [
  {
   "cell_type": "code",
   "execution_count": 172,
   "metadata": {},
   "outputs": [],
   "source": [
    "import sympy as sym\n",
    "\n",
    "# Define states, measurements and inputs.\n",
    "x1, x2, x3, x4 = sym.symbols('x1, x2, x3, x4')\n",
    "x = sym.Matrix([[x1], [x2], [x3], [x4]])\n",
    "\n",
    "u1 = sym.symbols('u1')\n",
    "u = sym.Matrix([[u1]])\n",
    "\n",
    "z1 = sym.symbols('z1')\n",
    "z = sym.Matrix([[z1]])\n",
    "\n",
    "w1, w2, w3, w4 = sym.symbols('w1, w2, w3, w4')\n",
    "w = sym.Matrix([[w1], [w2], [w3], [w4]])\n",
    "\n",
    "v1 = sym.symbols('v1')\n",
    "v = sym.Matrix([[v1]])\n",
    "\n",
    "p11, p12, p13, p14, p21, p22, p23, p24, p31, p32, p33, p34, p41, p42, p43, p44 = sym.symbols('p11, p12, p13, p14, p21, p22, p23, p24, p31, p32, p33, p34, p41, p42, p43, p44')\n",
    "P = sym.Matrix([[p11, p12, p13, p14], [p21, p22, p23, p24], [p31, p32, p33, p34], [p41, p42, p43, p44]])\n",
    "\n",
    "var_x1, var_x2, var_x3, var_x4 = sym.symbols('var_x1 var_x2 var_x3 var_x4')\n",
    "Q = sym.diag(var_x1, var_x2, var_x3, var_x4)\n",
    "\n",
    "var_z1 = sym.symbols('var_z1')\n",
    "R = sym.diag(var_z1)\n",
    "\n",
    "# Helper variables\n",
    "dt = sym.Symbol('dt')\n",
    "c1 = 3.3 / 0x3FF\n",
    "\n",
    "# Define state model\n",
    "f = sym.Matrix([[1, dt, 0, 0], [0, 1, 0, 0], [0, 0, 1, 0], [0, 0, 0, 1]]) * x + (c1 * u1 - x3) * x4 * sym.Matrix([[dt], [0], [0], [0]]) + w # \n",
    "F = f.jacobian(x)\n",
    "f11, f12, f13, f14, f21, f22, f23, f24, f31, f32, f33, f34, f41, f42, f43, f44 = sym.symbols('f11, f12, f13, f14, f21, f22, f23, f24, f31, f32, f33, f34, f41, f42, f43, f44')\n",
    "F_sym = sym.Matrix([[f11, f12, f13, f14], [f21, f22, f23, f24], [f31, f32, f33, f34], [f41, f42, f43, f44]]) \n",
    "\n",
    "B = f.jacobian(u)\n",
    "\n",
    "h = sym.Matrix([x1]) + v\n",
    "H = h.jacobian(x)\n",
    "\n",
    "# Process update\n",
    "x_pred = f.subs([(w1, 0), (w2, 0), (w3, 0), (w4, 0)]) # State prediction export f(x, u, c)\n",
    "P_pred = F * P * F.transpose() + Q # Covariance prediction export P_pred(x, u, c, Q)\n",
    "\n",
    "# Measurement update\n",
    "y = z - h.subs([(v1, 0)]) # Residual\n",
    "\n",
    "S = H * P * H.transpose() + R # Innovation (export S_inv(P, R))\n",
    "s_inv11 = sym.symbols('s_inv11')\n",
    "S_inv = sym.Matrix([[s_inv11]]) \n",
    "\n",
    "K = P * H.transpose() * S_inv # Kalman gain (export K(P, S_inv))\n",
    "k1, k2, k3, k4 = sym.symbols('k1, k2, k3, k4')\n",
    "K_sym = sym.Matrix([[k1], [k2], [k3], [k4]]) \n",
    "\n",
    "x_est = x + K_sym * y # Posterior state estimate (export x_est(x, P, z, K))\n",
    "P_est = (sym.eye(len(x)) - K_sym * H) * P # Posterior covariance estimate (export P_est(P, K))\n",
    "\n",
    "# Export C-Code\n",
    "from sympy.utilities.codegen import codegen, get_code_generator, default_datatypes\n",
    "from sympy.codegen.ast import float32, real\n",
    "\n",
    "cg = get_code_generator(\"C\", project=\"clock_sync\") #note project must be specified here\n",
    "cg.printer.type_aliases[real] = float32 #makes the functions correct (cosf instead of cos)\n",
    "default_datatypes[\"float\"].cname = \"float\" #makes the data-type correct (float instead of double)\n",
    "\n",
    "codegen([(\"predictX\", x_pred), (\"predictP\", P_pred), (\"computeResidual\", y), (\"computeSInverse\", S.inv()), (\"computeK\", K), (\"estimateX\", x_est), (\"estimateP\", P_est)], \n",
    "        prefix=\"ClockEstimator\", header=False, empty=False, to_files=True, code_gen=cg)\n"
   ]
  },
  {
   "cell_type": "code",
   "execution_count": null,
   "metadata": {},
   "outputs": [],
   "source": []
  },
  {
   "cell_type": "code",
   "execution_count": 168,
   "metadata": {},
   "outputs": [],
   "source": [
    "import numpy as np\n",
    "import scipy.linalg\n",
    "# Thanks to http://www.mwm.im/lqr-controllers-with-python/\n",
    " \n",
    "def dlqr(A,B,Q,R):\n",
    "    \"\"\"Solve the discrete time lqr controller.\n",
    "\n",
    "    x[k+1] = A x[k] + B u[k]\n",
    "\n",
    "    cost = sum x[k].T*Q*x[k] + u[k].T*R*u[k]\n",
    "    \"\"\"\n",
    "    #ref Bertsekas, p.151\n",
    "\n",
    "    #first, try to solve the ricatti equation\n",
    "    X = np.matrix(scipy.linalg.solve_discrete_are(A, B, Q, R))\n",
    "\n",
    "    #compute the LQR gain\n",
    "    K = np.matrix(scipy.linalg.inv(B.T*X*B+R)*(B.T*X*A))\n",
    "\n",
    "    eigVals, eigVecs = scipy.linalg.eig(A-B*K)\n",
    "\n",
    "    return K, X, eigVals"
   ]
  },
  {
   "cell_type": "code",
   "execution_count": 169,
   "metadata": {},
   "outputs": [
    {
     "name": "stdout",
     "output_type": "stream",
     "text": [
      "System (A,B) is NOT controllable.\n",
      "System (A,Q) is observable.\n"
     ]
    },
    {
     "ename": "LinAlgError",
     "evalue": "Failed to find a finite solution.",
     "output_type": "error",
     "traceback": [
      "\u001b[0;31m---------------------------------------------------------------------------\u001b[0m",
      "\u001b[0;31mLinAlgError\u001b[0m                               Traceback (most recent call last)",
      "\u001b[0;32m<ipython-input-169-7f082c7373ad>\u001b[0m in \u001b[0;36m<module>\u001b[0;34m\u001b[0m\n\u001b[1;32m     33\u001b[0m     \u001b[0mprint\u001b[0m\u001b[0;34m(\u001b[0m\u001b[0;34m\"System (A,Q) is NOT observable.\"\u001b[0m\u001b[0;34m)\u001b[0m\u001b[0;34m\u001b[0m\u001b[0;34m\u001b[0m\u001b[0m\n\u001b[1;32m     34\u001b[0m \u001b[0;34m\u001b[0m\u001b[0m\n\u001b[0;32m---> 35\u001b[0;31m \u001b[0mKlqr\u001b[0m\u001b[0;34m,\u001b[0m \u001b[0mXlqr\u001b[0m\u001b[0;34m,\u001b[0m \u001b[0mElqr\u001b[0m \u001b[0;34m=\u001b[0m \u001b[0mdlqr\u001b[0m\u001b[0;34m(\u001b[0m\u001b[0mA\u001b[0m\u001b[0;34m,\u001b[0m \u001b[0mB\u001b[0m\u001b[0;34m,\u001b[0m \u001b[0mQ\u001b[0m\u001b[0;34m,\u001b[0m \u001b[0mR\u001b[0m\u001b[0;34m)\u001b[0m\u001b[0;34m\u001b[0m\u001b[0;34m\u001b[0m\u001b[0m\n\u001b[0m\u001b[1;32m     36\u001b[0m \u001b[0mprint\u001b[0m\u001b[0;34m(\u001b[0m\u001b[0;34m\"Gain: \"\u001b[0m\u001b[0;34m)\u001b[0m\u001b[0;34m\u001b[0m\u001b[0;34m\u001b[0m\u001b[0m\n\u001b[1;32m     37\u001b[0m \u001b[0mprint\u001b[0m\u001b[0;34m(\u001b[0m\u001b[0mKlqr\u001b[0m\u001b[0;34m)\u001b[0m\u001b[0;34m\u001b[0m\u001b[0;34m\u001b[0m\u001b[0m\n",
      "\u001b[0;32m<ipython-input-168-c844b5c93612>\u001b[0m in \u001b[0;36mdlqr\u001b[0;34m(A, B, Q, R)\u001b[0m\n\u001b[1;32m     13\u001b[0m \u001b[0;34m\u001b[0m\u001b[0m\n\u001b[1;32m     14\u001b[0m     \u001b[0;31m#first, try to solve the ricatti equation\u001b[0m\u001b[0;34m\u001b[0m\u001b[0;34m\u001b[0m\u001b[0;34m\u001b[0m\u001b[0m\n\u001b[0;32m---> 15\u001b[0;31m     \u001b[0mX\u001b[0m \u001b[0;34m=\u001b[0m \u001b[0mnp\u001b[0m\u001b[0;34m.\u001b[0m\u001b[0mmatrix\u001b[0m\u001b[0;34m(\u001b[0m\u001b[0mscipy\u001b[0m\u001b[0;34m.\u001b[0m\u001b[0mlinalg\u001b[0m\u001b[0;34m.\u001b[0m\u001b[0msolve_discrete_are\u001b[0m\u001b[0;34m(\u001b[0m\u001b[0mA\u001b[0m\u001b[0;34m,\u001b[0m \u001b[0mB\u001b[0m\u001b[0;34m,\u001b[0m \u001b[0mQ\u001b[0m\u001b[0;34m,\u001b[0m \u001b[0mR\u001b[0m\u001b[0;34m)\u001b[0m\u001b[0;34m)\u001b[0m\u001b[0;34m\u001b[0m\u001b[0;34m\u001b[0m\u001b[0m\n\u001b[0m\u001b[1;32m     16\u001b[0m \u001b[0;34m\u001b[0m\u001b[0m\n\u001b[1;32m     17\u001b[0m     \u001b[0;31m#compute the LQR gain\u001b[0m\u001b[0;34m\u001b[0m\u001b[0;34m\u001b[0m\u001b[0;34m\u001b[0m\u001b[0m\n",
      "\u001b[0;32m~/anaconda3/lib/python3.7/site-packages/scipy/linalg/_solvers.py\u001b[0m in \u001b[0;36msolve_discrete_are\u001b[0;34m(a, b, q, r, e, s, balanced)\u001b[0m\n\u001b[1;32m    711\u001b[0m \u001b[0;34m\u001b[0m\u001b[0m\n\u001b[1;32m    712\u001b[0m     \u001b[0;32mif\u001b[0m \u001b[0;36m1\u001b[0m\u001b[0;34m/\u001b[0m\u001b[0mcond\u001b[0m\u001b[0;34m(\u001b[0m\u001b[0muu\u001b[0m\u001b[0;34m)\u001b[0m \u001b[0;34m<\u001b[0m \u001b[0mnp\u001b[0m\u001b[0;34m.\u001b[0m\u001b[0mspacing\u001b[0m\u001b[0;34m(\u001b[0m\u001b[0;36m1.\u001b[0m\u001b[0;34m)\u001b[0m\u001b[0;34m:\u001b[0m\u001b[0;34m\u001b[0m\u001b[0;34m\u001b[0m\u001b[0m\n\u001b[0;32m--> 713\u001b[0;31m         \u001b[0;32mraise\u001b[0m \u001b[0mLinAlgError\u001b[0m\u001b[0;34m(\u001b[0m\u001b[0;34m'Failed to find a finite solution.'\u001b[0m\u001b[0;34m)\u001b[0m\u001b[0;34m\u001b[0m\u001b[0;34m\u001b[0m\u001b[0m\n\u001b[0m\u001b[1;32m    714\u001b[0m \u001b[0;34m\u001b[0m\u001b[0m\n\u001b[1;32m    715\u001b[0m     \u001b[0;31m# Exploit the triangular structure\u001b[0m\u001b[0;34m\u001b[0m\u001b[0;34m\u001b[0m\u001b[0;34m\u001b[0m\u001b[0m\n",
      "\u001b[0;31mLinAlgError\u001b[0m: Failed to find a finite solution."
     ]
    }
   ],
   "source": [
    "import numpy as np\n",
    "import control \n",
    "\n",
    "# Treat x3 and x4 as constants and replace with nominal values\n",
    "x_ctrl = sym.Matrix([x1, x2])\n",
    "\n",
    "f_ctrl = sym.Matrix(x_pred[0:2])\n",
    "f_ctrl = f_ctrl.subs([(x3, 6.6), (x4, 1.47), (dt, 1.0)])\n",
    "\n",
    "A = f_ctrl.jacobian(x_ctrl)\n",
    "B = f_ctrl.jacobian(u)\n",
    "\n",
    "A = np.array(A).astype(np.float64)\n",
    "B = np.array(B).astype(np.float64)\n",
    "\n",
    "Q = np.zeros((2, 2))\n",
    "Q[0,0] = 1.0e0\n",
    "Q[1,1] = 1.0e4\n",
    "\n",
    "R = np.zeros((1,1))\n",
    "R[0,0] = 1.0\n",
    "\n",
    "# Controllability check\n",
    "if (np.linalg.matrix_rank(ctrb(A,B)) == len(x_ctrl)):\n",
    "    print(\"System (A,B) is controllable.\")\n",
    "else:\n",
    "    print(\"System (A,B) is NOT controllable.\")\n",
    "    \n",
    "# Observability check\n",
    "if (np.linalg.matrix_rank(obsv(A,Q)) == len(x_ctrl)):\n",
    "    print(\"System (A,Q) is observable.\")\n",
    "else:\n",
    "    print(\"System (A,Q) is NOT observable.\")\n",
    "\n",
    "Klqr, Xlqr, Elqr = dlqr(A, B, Q, R)\n",
    "print(\"Gain: \")\n",
    "print(Klqr)\n",
    "\n"
   ]
  },
  {
   "cell_type": "code",
   "execution_count": 171,
   "metadata": {},
   "outputs": [
    {
     "data": {
      "text/plain": [
       "array([[0.00474194],\n",
       "       [0.        ]])"
      ]
     },
     "execution_count": 171,
     "metadata": {},
     "output_type": "execute_result"
    }
   ],
   "source": [
    "B"
   ]
  }
 ],
 "metadata": {
  "kernelspec": {
   "display_name": "Python 3",
   "language": "python",
   "name": "python3"
  },
  "language_info": {
   "codemirror_mode": {
    "name": "ipython",
    "version": 3
   },
   "file_extension": ".py",
   "mimetype": "text/x-python",
   "name": "python",
   "nbconvert_exporter": "python",
   "pygments_lexer": "ipython3",
   "version": "3.7.6"
  }
 },
 "nbformat": 4,
 "nbformat_minor": 4
}
