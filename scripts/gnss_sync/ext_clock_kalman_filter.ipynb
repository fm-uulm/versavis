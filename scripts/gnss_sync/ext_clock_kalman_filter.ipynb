{
 "cells": [
  {
   "cell_type": "code",
   "execution_count": 39,
   "metadata": {},
   "outputs": [
    {
     "data": {
      "text/plain": "Matrix([\n[             clock_msg_->P[0]*(-K[0] + 1),              clock_msg_->P[1]*(-K[0] + 1)],\n[-K[1]*clock_msg_->P[0] + clock_msg_->P[2], -K[1]*clock_msg_->P[1] + clock_msg_->P[3]]])"
     },
     "execution_count": 39,
     "metadata": {},
     "output_type": "execute_result"
    }
   ],
   "source": "import sympy as sym\n\n# Define symbols.\ndt = sym.Symbol('clock_msg_->dt')\nF = sym.Matrix([[1, dt], [0, 1]])\nH = sym.Matrix([[1, 0]])\n\nx1, x2 = sym.symbols('clock_msg_->x[0], clock_msg_->x[1]')\nx = sym.Matrix([[x1], [x2]])\n\np11, p12, p21, p22 = sym.symbols('clock_msg_->P[0], clock_msg_->P[1], clock_msg_->P[2], clock_msg_->P[3]')\nP = sym.Matrix([[p11, p12], [p21, p22]])\n\n\nQ11, Q22 = sym.symbols('Q_[0], Q_[1]')\nQ = sym.Matrix([[Q11, 0], [0, Q22]])\n\n\n# Calculate Kalman filter.\n\n# Prediction\nF * x # state prediction\nF * P * F.transpose() + dt * Q # covariance prediction\n\n# Update\n\nr = sym.Symbol('R_')\nR = sym.Matrix([[r]])\n\nH * P * H.transpose() + R # S\n\nS = sym.Symbol('S')\nP * H.transpose() / S # K\n\nk1, k2 = sym.symbols('K[0], K[1]')\nK = sym.Matrix([[k1], [k2]])\n(sym.Identity(2).as_explicit() - K * H) * P"
  },
  {
   "cell_type": "code",
   "execution_count": 40,
   "metadata": {},
   "outputs": [
    {
     "data": {
      "text/plain": "Matrix([\n[clock_msg_->dt*clock_msg_->x[1] + clock_msg_->x[0]],\n[                                  clock_msg_->x[1]]])"
     },
     "execution_count": 40,
     "metadata": {},
     "output_type": "execute_result"
    }
   ],
   "source": "F * x"
  }
 ],
 "metadata": {
  "kernelspec": {
   "display_name": "Python 2",
   "language": "python",
   "name": "python2"
  },
  "language_info": {
   "codemirror_mode": {
    "name": "ipython",
    "version": 2
   },
   "file_extension": ".py",
   "mimetype": "text/x-python",
   "name": "python",
   "nbconvert_exporter": "python",
   "pygments_lexer": "ipython2",
   "version": "2.7.17"
  }
 },
 "nbformat": 4,
 "nbformat_minor": 4
}
