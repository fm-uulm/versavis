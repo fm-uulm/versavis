{
 "cells": [
  {
   "cell_type": "code",
   "execution_count": 4,
   "metadata": {},
   "outputs": [],
   "source": "import sympy as sym\n\n# Define states, measurements and inputs.\nx1, x2, x3 = sym.symbols('x1, x2, x3')\nx = sym.Matrix([[x1], [x2], [x3]])\n\nu1 = sym.symbols('u1')\nu = sym.Matrix([[u1]])\n\nz1 = sym.symbols('z1')\nz = sym.Matrix([[z1]])\n\nw1, w2, w3 = sym.symbols('w1, w2, w3')\nw = sym.Matrix([[w1], [w2], [w3]])\n\nv1 = sym.symbols('v1')\nv = sym.Matrix([[v1]])\n\np11, p12, p13, p21, p22, p23, p31, p32, p33 = sym.symbols('p11, p12, p13, p21, p22, p23, p31, p32, p33')\nP = sym.Matrix([[p11, p12, p13], [p21, p22, p23], [p31, p32, p33]])\n\nvar_x1, var_x2, var_x3 = sym.symbols('var_x1 var_x2 var_x3')\nQ = sym.diag(var_x1, var_x2, var_x3)\n\nvar_z1 = sym.symbols('var_z1')\nR = sym.diag(var_z1)\n\n# Helper variables\ndt = sym.Symbol('dt')\nc1 = 3.3 / 0x3FF\n\n# Define state model\nf = x + (c1 * u1 - x2) * x3 * dt * sym.Matrix([[1], [0], [0]]) + w \nF = f.jacobian(x)\nf11, f12, f13, f21, f22, f23, f31, f32, f33 = sym.symbols('f11, f12, f13, f21, f22, f23, f31, f32, f33')\nF_sym = sym.Matrix([[f11, f12, f13], [f21, f22, f23], [f31, f32, f33]]) \n\nB = f.jacobian(u)\n\nh = sym.Matrix([x1]) + v\nH = h.jacobian(x)\n\n# Process update\nx_pred = f.subs([(w1, 0), (w2, 0), (w3, 0)]) # State prediction export f(x, u, c)\nP_pred = F * P * F.transpose() + Q # Covariance prediction export P_pred(x, u, c, Q)\n\n# Measurement update\ny = z - h.subs([(v1, 0)]) # Residual\nresidual = sym.symbols('residual')\n\nS = H * P * H.transpose() + R # Innovation (export S_inv(P, R))\ns_inv11 = sym.symbols('s_inv11')\nS_inv = sym.Matrix([[s_inv11]]) \n\nK = P * H.transpose() * S_inv # Kalman gain (export K(P, S_inv))\nk1, k2, k3 = sym.symbols('k1, k2, k3')\nK_sym = sym.Matrix([[k1], [k2], [k3]]) \n\nx_est = x + K_sym * residual # Posterior state estimate (export x_est(x, P, z, K))\nP_est = (sym.eye(len(x)) - K_sym * H) * P # Posterior covariance estimate (export P_est(P, K))\n\n# Export C-Code\nfrom sympy.utilities.codegen import codegen, get_code_generator, default_datatypes\nfrom sympy.codegen.ast import float32, real\n\ncg = get_code_generator(\"C\", project=\"clock_sync\") #note project must be specified here\ncg.printer.type_aliases[real] = float32 #makes the functions correct (cosf instead of cos)\ndefault_datatypes[\"float\"].cname = \"float\" #makes the data-type correct (float instead of double)\n\ncodegen([(\"predictX\", x_pred), (\"predictP\", P_pred), (\"computeResidual\", y), (\"computeSInverse\", S.inv()), (\"computeK\", K), (\"estimateX\", x_est), (\"estimateP\", P_est)], \n        prefix=\"ClockEstimator\", header=False, empty=False, to_files=True, code_gen=cg)\n\n\n"
  },
  {
   "cell_type": "code",
   "execution_count": 14,
   "metadata": {},
   "outputs": [
    {
     "data": {
      "text/latex": [
       "$\\displaystyle \\left[\\begin{matrix}dt x_{3} \\left(0.0032258064516129 u_{1} - x_{2}\\right) + x_{1}\\\\x_{2}\\\\x_{3}\\end{matrix}\\right]$"
      ],
      "text/plain": [
       "Matrix([\n",
       "[dt*x3*(0.0032258064516129*u1 - x2) + x1],\n",
       "[                                     x2],\n",
       "[                                     x3]])"
      ]
     },
     "execution_count": 14,
     "metadata": {},
     "output_type": "execute_result"
    }
   ],
   "source": "x_pred"
  },
  {
   "cell_type": "code",
   "execution_count": 3,
   "metadata": {},
   "outputs": [],
   "source": "import numpy as np\nimport scipy.linalg\n# Thanks to http://www.mwm.im/lqr-controllers-with-python/\n \ndef dlqr(A,B,Q,R):\n    \"\"\"Solve the discrete time lqr controller.\n\n    x[k+1] = A x[k] + B u[k]\n\n    cost = sum x[k].T*Q*x[k] + u[k].T*R*u[k]\n    \"\"\"\n    #ref Bertsekas, p.151\n\n    #first, try to solve the ricatti equation\n    X = np.matrix(scipy.linalg.solve_discrete_are(A, B, Q, R))\n\n    #compute the LQR gain\n    K = np.matrix(scipy.linalg.inv(B.T*X*B+R)*(B.T*X*A))\n\n    eigVals, eigVecs = scipy.linalg.eig(A-B*K)\n\n    return K, X, eigVals"
  },
  {
   "cell_type": "code",
   "execution_count": 4,
   "metadata": {},
   "outputs": [
    {
     "name": "stdout",
     "output_type": "stream",
     "text": "System (A,B) is controllable.\nSystem (A,Q) is observable.\nGain: \n[[3.08266065]]\n"
    }
   ],
   "source": "import numpy as np\nimport control \nfrom control import ctrb, obsv\n\n# Treat x2 and x3 as constants and replace with nominal values\nx_ctrl = sym.Matrix([x1])\n\nf_ctrl = sym.Matrix([x_pred[0]])\nf_ctrl = f_ctrl.subs([(x2, 1.5), (x3, 5.0), (dt, 1.0)])\n\nA = f_ctrl.jacobian(x_ctrl)\nB = f_ctrl.jacobian(u)\n\nA = np.array(A).astype(np.float64)\nB = np.array(B).astype(np.float64)\n\nQ = np.zeros((1, 1))\nQ[0,0] = 1.0\n\nR = np.zeros((1,1))\nR[0,0] = 0.1\n\n# Controllability check\nif (np.linalg.matrix_rank(ctrb(A,B)) == len(x_ctrl)):\n    print(\"System (A,B) is controllable.\")\nelse:\n    print(\"System (A,B) is NOT controllable.\")\n    \n# Observability check\nif (np.linalg.matrix_rank(obsv(A,Q)) == len(x_ctrl)):\n    print(\"System (A,Q) is observable.\")\nelse:\n    print(\"System (A,Q) is NOT observable.\")\n\nKlqr, Xlqr, Elqr = dlqr(A, B, Q, R)\nprint(\"Gain: \")\nprint(Klqr)\n\n"
  },
  {
   "cell_type": "code",
   "execution_count": 38,
   "metadata": {},
   "outputs": [
    {
     "data": {
      "text/latex": [
       "$\\displaystyle \\left[\\begin{matrix}dt x_{3} \\left(0.0032258064516129 u_{1} - x_{2}\\right) + x_{1}\\\\x_{2}\\\\x_{3}\\end{matrix}\\right]$"
      ],
      "text/plain": [
       "Matrix([\n",
       "[dt*x3*(0.0032258064516129*u1 - x2) + x1],\n",
       "[                                     x2],\n",
       "[                                     x3]])"
      ]
     },
     "execution_count": 38,
     "metadata": {},
     "output_type": "execute_result"
    }
   ],
   "source": "x_pred"
  }
 ],
 "metadata": {
  "kernelspec": {
   "display_name": "Python 2",
   "language": "python",
   "name": "python2"
  },
  "language_info": {
   "codemirror_mode": {
    "name": "ipython",
    "version": 2
   },
   "file_extension": ".py",
   "mimetype": "text/x-python",
   "name": "python",
   "nbconvert_exporter": "python",
   "pygments_lexer": "ipython2",
   "version": "2.7.17"
  }
 },
 "nbformat": 4,
 "nbformat_minor": 4
}
